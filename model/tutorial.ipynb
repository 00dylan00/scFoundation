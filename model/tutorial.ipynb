{
 "cells": [
  {
   "cell_type": "markdown",
   "metadata": {},
   "source": [
    "#### 1. Convert Gene Symbol: (If you use the demo data, skip this step)\n",
    "\n",
    "- Convert the gene symbol in your data to match our list `OS_scRNA_gene_index.19264.tsv`.\n",
    "- For Python users, you can use the `main_gene_selection` function in `get_embedding.py`:\n",
    "  ```python\n",
    "  # X_df represents your single cell data with cells in rows and genes in columns\n",
    "  gene_list_df = pd.read_csv('../OS_scRNA_gene_index.19264.tsv', header=0, delimiter='\\t')\n",
    "  gene_list = list(gene_list_df['gene_name'])\n",
    "  X_df, to_fill_columns, var = main_gene_selection(X_df, gene_list)\n",
    "  ```\n",
    "- Save your data `X_df` in either `npy` or `csv` format."
   ]
  },
  {
   "cell_type": "code",
   "execution_count": 32,
   "metadata": {},
   "outputs": [],
   "source": [
    "# imports\n",
    "import argparse\n",
    "import random,os\n",
    "import numpy as np\n",
    "import pandas as pd\n",
    "import argparse\n",
    "import torch\n",
    "from tqdm import tqdm\n",
    "import scipy.sparse\n",
    "from scipy.sparse import issparse\n",
    "import scanpy as sc\n",
    "from load import *\n",
    "\n",
    "#Set random seed\n",
    "random.seed(0)\n",
    "np.random.seed(0)  # numpy random generator\n",
    "\n",
    "torch.manual_seed(0)\n",
    "torch.cuda.manual_seed_all(0)\n",
    "\n",
    "torch.backends.cudnn.deterministic = True\n",
    "torch.backends.cudnn.benchmark = False\n",
    "\n",
    "# variables\n",
    "data_path = os.path.join(\"..\",\"examples/examples/SCAD/Source_exprs_resp_19264.NVP-TAE684.csv\")\n",
    "\n",
    "# functions\n",
    "\n",
    "def main_gene_selection(X_df, gene_list):\n",
    "    \"\"\"\n",
    "    Describe:\n",
    "        rebuild the input adata to select target genes encode protein \n",
    "    Parameters:\n",
    "        adata->`~anndata.AnnData` object: adata with var index_name by gene symbol\n",
    "        gene_list->list: wanted target gene \n",
    "    Returns:\n",
    "        adata_new->`~anndata.AnnData` object\n",
    "        to_fill_columns->list: zero padding gene\n",
    "    \"\"\"\n",
    "    to_fill_columns = list(set(gene_list) - set(X_df.columns))\n",
    "    padding_df = pd.DataFrame(np.zeros((X_df.shape[0], len(to_fill_columns))), \n",
    "                              columns=to_fill_columns, \n",
    "                              index=X_df.index)\n",
    "    X_df = pd.DataFrame(np.concatenate([df.values for df in [X_df, padding_df]], axis=1), \n",
    "                        index=X_df.index, \n",
    "                        columns=list(X_df.columns) + list(padding_df.columns))\n",
    "    X_df = X_df[gene_list]\n",
    "    \n",
    "    var = pd.DataFrame(index=X_df.columns)\n",
    "    var['mask'] = [1 if i in to_fill_columns else 0 for i in list(var.index)]\n",
    "    return X_df, to_fill_columns,var\n",
    "\n",
    "\n",
    "\n",
    "device = torch.device('cuda' if torch.cuda.is_available() else 'cpu')\n",
    "#Load data\n",
    "gexpr_feature=pd.read_csv(data_path,index_col=0)"
   ]
  },
  {
   "cell_type": "code",
   "execution_count": 35,
   "metadata": {},
   "outputs": [
    {
     "name": "stdout",
     "output_type": "stream",
     "text": [
      "(395, 19261)\n"
     ]
    }
   ],
   "source": [
    "# drop column A1BG A1CF A3GALT2\n",
    "\n",
    "gexpr_feature=gexpr_feature.drop(['A1BG','A1CF','A3GALT2'],axis=1)\n",
    "print(gexpr_feature.shape)"
   ]
  },
  {
   "cell_type": "code",
   "execution_count": null,
   "metadata": {},
   "outputs": [],
   "source": [
    "# Convert Gene symbols\n",
    "gene_list_df = pd.read_csv('./OS_scRNA_gene_index.19264.tsv', header=0, delimiter='\\t')\n",
    "gene_list = list(gene_list_df['gene_name'])\n",
    "\n",
    "X_df, to_fill_columns,var = main_gene_selection(gexpr_feature, gene_list)"
   ]
  }
 ],
 "metadata": {
  "kernelspec": {
   "display_name": "scgpt",
   "language": "python",
   "name": "python3"
  },
  "language_info": {
   "codemirror_mode": {
    "name": "ipython",
    "version": 3
   },
   "file_extension": ".py",
   "mimetype": "text/x-python",
   "name": "python",
   "nbconvert_exporter": "python",
   "pygments_lexer": "ipython3",
   "version": "3.9.19"
  }
 },
 "nbformat": 4,
 "nbformat_minor": 2
}
